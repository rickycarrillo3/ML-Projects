{
  "nbformat": 4,
  "nbformat_minor": 0,
  "metadata": {
    "colab": {
      "provenance": [],
      "authorship_tag": "ABX9TyODmUSOYsgnS15dROF+M/ps",
      "include_colab_link": true
    },
    "kernelspec": {
      "name": "python3",
      "display_name": "Python 3"
    },
    "language_info": {
      "name": "python"
    }
  },
  "cells": [
    {
      "cell_type": "markdown",
      "metadata": {
        "id": "view-in-github",
        "colab_type": "text"
      },
      "source": [
        "<a href=\"https://colab.research.google.com/github/rickycarrillo3/ML-Projects/blob/main/Logistic_Regression2D.ipynb\" target=\"_parent\"><img src=\"https://colab.research.google.com/assets/colab-badge.svg\" alt=\"Open In Colab\"/></a>"
      ]
    },
    {
      "cell_type": "markdown",
      "source": [
        "Hello once again. Last time, we dealt with linear regressor, i.e, finding the line of best fit through a given dataset. Now, we move on to another task: Classification. In this demo, we will go through all the steps to train a linear classifier for two classes.\n",
        "\n",
        "A linear classifier is nothing more than a line in 2D such that the points above the line are considered to be in one class, and those below the line are considered to be in the other class. In higher dimensions, linear classifiers take the form of hyperplanes.\n",
        "\n",
        "Mathematically, hyperplanes take the form $c_1x_1 + c_2x_2 + c_3x_3 + ... + c_{n}x_{n} = a$ in $n$ dimensions, where the $c_i$ and $a$ are constants and the $x_i$ are our variables. Notice that in 2 dimensions, this reduces to $c_1x_1 + c_2x_2 = a$, which we can see is our familiar equation of a line."
      ],
      "metadata": {
        "id": "yUie5XL16p1-"
      }
    },
    {
      "cell_type": "markdown",
      "source": [
        "**2 Dimensional linear Classifier**"
      ],
      "metadata": {
        "id": "tB0SgIez8BJj"
      }
    },
    {
      "cell_type": "code",
      "source": [
        "import numpy as np\n",
        "import matplotlib.pyplot as plt\n",
        "import math"
      ],
      "metadata": {
        "id": "14_B9v-T8P0T"
      },
      "execution_count": null,
      "outputs": []
    },
    {
      "cell_type": "code",
      "execution_count": null,
      "metadata": {
        "colab": {
          "base_uri": "https://localhost:8080/",
          "height": 447
        },
        "id": "puGPrzks6mxE",
        "outputId": "c297868a-1301-4cee-c8ac-5c31836025ad"
      },
      "outputs": [
        {
          "output_type": "execute_result",
          "data": {
            "text/plain": [
              "<matplotlib.collections.PathCollection at 0x7bee145e6450>"
            ]
          },
          "metadata": {},
          "execution_count": 3
        },
        {
          "output_type": "display_data",
          "data": {
            "text/plain": [
              "<Figure size 640x480 with 1 Axes>"
            ],
            "image/png": "[encoded data removed]"
          },
          "metadata": {}
        }
      ],
      "source": [
        "w = 2\n",
        "b = 1\n",
        "# Plot the decision boundary (The line)\n",
        "X = np.linspace(-30, 30)\n",
        "Y = w*X + b\n",
        "plt.plot(X, Y)\n",
        "# Create random dataset\n",
        "X_values = np.random.randn(20) * 10\n",
        "Y_values = np.random.randn(20) * 15\n",
        "labels = np.array([i % 2 for i in range(20)])\n",
        "# Class 0\n",
        "plt.scatter([X_values[i] for i in range(20) if labels[i] == 0] ,[Y_values[i] for i in range(20) if labels[i] == 0], color='red')\n",
        "# Class 1\n",
        "plt.scatter([X_values[i] for i in range(20) if labels[i] == 1] ,[Y_values[i] for i in range(20) if labels[i] == 1], color='green')"
      ]
    },
    {
      "cell_type": "code",
      "source": [
        "## Accuracy Computation ##\n",
        "\n",
        "def compute_accuracy(X, labels, w, b):\n",
        "  correct_predictions = 0\n",
        "  for i in range(len(labels)):\n",
        "    label = labels[i]\n",
        "    x,y = X[i]\n",
        "    prediction = y - (w * x + b) > 0\n",
        "    if prediction == label:\n",
        "      correct_predictions += 1\n",
        "  return correct_predictions / len(labels)\n",
        "\n",
        "X = np.array([(X_values[i], Y_values[i]) for i in range(len(X_values))])\n",
        "print(f\"Accuracy: {compute_accuracy(X, labels, w, b)}\")\n"
      ],
      "metadata": {
        "colab": {
          "base_uri": "https://localhost:8080/"
        },
        "id": "O3cY0jzE_gJg",
        "outputId": "3baee597-1067-4008-804d-78b682f6e869"
      },
      "execution_count": null,
      "outputs": [
        {
          "output_type": "stream",
          "name": "stdout",
          "text": [
            "Accuracy: 0.45\n"
          ]
        }
      ]
    },
    {
      "cell_type": "markdown",
      "source": [
        "Feel free to play around adjusting $w$ and $b$. This classifier is quite bad, but also the data is not very separable into two groups. This is a good point to think about: when is a linear classifier approriate for our data? Anyhow, we trained a linear regressor, can we train a linear classifier now?\n",
        "\n",
        "The answer is yes! In addition, we can even use a very similar strategy. We will make use gradient descent once again; however, we will use a different loss function, and we will introduce a new function: the sigmoid.\n",
        "\n",
        "The sigmoid, often denoted $\\sigma(z) = \\frac{1}{1 + e^{-z}}$ is the function we will look at today.\n"
      ],
      "metadata": {
        "id": "u0qJcASeBjIP"
      }
    },
    {
      "cell_type": "code",
      "source": [
        "### Visualization of the Sigmoid ###\n",
        "X = np.linspace(-20,20)\n",
        "Y = 1 / (1 + np.exp(-X))\n",
        "plt.plot(X,Y)\n",
        "plt.xlabel('X')\n",
        "plt.ylabel('Y')\n",
        "plt.show()\n",
        "\n",
        "\n",
        "def compute_sigmoid(z):\n",
        "  return 1 / (1 + np.exp(-z))"
      ],
      "metadata": {
        "colab": {
          "base_uri": "https://localhost:8080/",
          "height": 449
        },
        "id": "mWZoBvrkEkt1",
        "outputId": "b0b2af46-8cb2-49d1-c03d-835406aaacbd"
      },
      "execution_count": null,
      "outputs": [
        {
          "output_type": "display_data",
          "data": {
            "text/plain": [
              "<Figure size 640x480 with 1 Axes>"
            ],
            "image/png": "[encoded data removed]"
          },
          "metadata": {}
        }
      ]
    },
    {
      "cell_type": "markdown",
      "source": [
        "Why do we use the sigmoid? Well, it turns the input $z$ into a probability between $0$ and $1$, which is quite nice as we can set a threshold in order finalize our classification task. In addition, it is everywhere differentiable and its derivative is quite simple to compute, so running gradient descent is quite easy."
      ],
      "metadata": {
        "id": "fh372iTJFQu-"
      }
    },
    {
      "cell_type": "markdown",
      "source": [
        "However, how exactly will be use this function if our input has two variables $x$ and $y$? We will let $z = w_1x_1 + w_2x_2 + b$ where the $w_i$ are our weights and $b$ is our bias term. Then, our sigmoid will look like\n",
        "\n",
        "$\\sigma(z) = \\frac{1}{1 + e^{-z}} = \\frac{1}{1 + e^{-(w_1x_1 + w_2x_2 + b)}}$\n",
        "\n",
        "It might look scary at first, but let's try to understand what is happening. Usually, the threshold is set to $0.5$, anything above is of class $1$ and anything below is of class $0$, so let's plug that in:\n",
        "\n",
        "$0.5 = \\frac{1}{1 + e^{-z}} \\iff e^{-z} = 1 \\iff z = 0$\n",
        "\n",
        "Notice that if we want $\\sigma(z) > 0.5$, we must have the denominator be less than what it is at the moment, so setting $z > 0$ would give us a smaller $e^{-z}$. Thus, our classification is determined by the sign of $z = w_1x_1 + w_2x_2 + b$. Thus, this line is called the **decision boundary**. In essence, by finding the best sigmoid for our dataset, we are trying to find an optimal decision boundary."
      ],
      "metadata": {
        "id": "1iFgDg5oGFUk"
      }
    },
    {
      "cell_type": "markdown",
      "source": [
        "Now, as with all optimization problems, we need something to optimize. Remember, we want a loss function that penalizes wrong classifications. The most widely used loss function for classification problem is the Negative Log-Likelihood, given by\n",
        "\n",
        "$NLL = -\\sum_{i = 1}^{n} y^{(i)}(\\log(\\hat{y}^{(i)})) + (1 - y^{(i)})(\\log(1 - \\hat{y}^{(i)}))$\n",
        "\n",
        "where $y^{(i)}$ is the ith label, $n$ is the number of datapoints, and $\\hat{y}^{(i)}$ is the predicted probability that the ith datapoint/example is in class $1$.\n",
        "\n",
        "Let us look at an example with a single datapoint. Suppose this datapoint is of class $1$ (since we only have two classes, they are denoted class $0$ and class $1$) but our prediction yields a probability of $0.1$ that this datapoint is in class $1$. Then,\n",
        "\n",
        "$NLL = -\\left[(1)(\\log(0.1)) + (1 - 1)(\\log(0.9))\\right] = 1$\n",
        "\n",
        "However, if the model was confident and had a probability of $0.9$ that the example was of class $1$, the $NLL$ would be $\\approx 0.05$. Thus, we can see that the better the prediction, the lower the loss! Perfect."
      ],
      "metadata": {
        "id": "m3BSRPtv1CKB"
      }
    },
    {
      "cell_type": "code",
      "source": [
        "def compute_nll(predictions, labels):\n",
        "  nll_total = 0\n",
        "  epsilon = 1e-15 # small value to prevent log(0)\n",
        "  for i in range(len(labels)):\n",
        "    label = labels[i]\n",
        "    prediction = predictions[i]\n",
        "    nll_total += label * math.log(prediction + epsilon) + (1 - label) * math.log(1 - prediction + epsilon)\n",
        "\n",
        "  return -nll_total\n",
        "\n",
        "### Example ###\n",
        "example_predictions = [0.2, 0.4, 0.5, 0.2, 0.6]\n",
        "example_labels = [1,0,1,1,0]\n",
        "print(f\"Negative Log-Likelihood: {compute_nll(example_predictions, example_labels)}\")"
      ],
      "metadata": {
        "colab": {
          "base_uri": "https://localhost:8080/"
        },
        "id": "IYdy_sQ20oJy",
        "outputId": "8ef076b2-0417-4f9f-dfc5-38fadea17804"
      },
      "execution_count": null,
      "outputs": [
        {
          "output_type": "stream",
          "name": "stdout",
          "text": [
            "Negative Log-Likelihood: 5.339139361068275\n"
          ]
        }
      ]
    },
    {
      "cell_type": "markdown",
      "source": [
        "Now, we have all we need to run gradient descent and optimize our linear Classifier. We will do so with two datasets: a clearly separable one, and a randomly generated dataset (Most likely not separable) By separable, we mean a dataset where the data can be easily \"separated\" into two or more classes."
      ],
      "metadata": {
        "id": "vUt_IX3u7kWs"
      }
    },
    {
      "cell_type": "code",
      "source": [
        "### Dataset 1 ###\n",
        "X1 = [1, 0.7, 0.3, 0.2, 1.3, 3, 4.3, 5.1, 3.4, 2.4]\n",
        "Y1 = [1, 1.3, 2.4, 2.7, 0.8, -2, -1, -1.2, -2.3, -2.2, -1.2]\n",
        "labels1 = [0,0,0,0,0,1,1,1,1,1]\n",
        "figure, axis = plt.subplots(1, 2)\n",
        "### Visualize the first dataset\n",
        "# Class 0\n",
        "axis[0].scatter([X1[i] for i in range(len(X1)) if labels1[i] == 0] ,[Y1[i] for i in range(len(X1)) if labels1[i] == 0], color='red')\n",
        "# Class 1\n",
        "axis[0].scatter([X1[i] for i in range(len(X1)) if labels1[i] == 1] ,[Y1[i] for i in range(len(X1)) if labels1[i] == 1], color='green')\n",
        "axis[0].set_title('Plot of Dataset 1')\n",
        "axis[0].set_xlabel('X')\n",
        "axis[0].set_ylabel('Y')\n",
        "\n",
        "### Dataset 2 ###\n",
        "X2 = np.random.randn(30) * 10\n",
        "Y2 = np.random.randn(30) * 20\n",
        "labels2 = [i % 2 for i in range(30)]\n",
        "### Visualize the second dataset\n",
        "# Class 0\n",
        "axis[1].scatter([X2[i] for i in range(len(X2)) if labels2[i] == 0] ,[Y2[i] for i in range(len(X2)) if labels2[i] == 0], color='red')\n",
        "# Class 1\n",
        "axis[1].scatter([X2[i] for i in range(len(X2)) if labels2[i] == 1] ,[Y2[i] for i in range(len(X2)) if labels2[i] == 1], color='green')\n",
        "axis[1].set_title('Plot of Dataset 2')\n",
        "axis[1].set_xlabel('X')\n",
        "axis[1].set_ylabel('Y')\n",
        "\n",
        "plt.tight_layout()"
      ],
      "metadata": {
        "colab": {
          "base_uri": "https://localhost:8080/",
          "height": 487
        },
        "id": "DrI2zjy25fyE",
        "outputId": "7e2504cb-da13-4809-b2b6-42a022f258e6"
      },
      "execution_count": null,
      "outputs": [
        {
          "output_type": "display_data",
          "data": {
            "text/plain": [
              "<Figure size 640x480 with 2 Axes>"
            ],
            "image/png": "[encoded data removed]"
          },
          "metadata": {}
        }
      ]
    },
    {
      "cell_type": "code",
      "source": [
        "### Logistic Regressor ###\n",
        "class LogisticRegressor():\n",
        "  def __init__(self, weights, bias):\n",
        "    self.weights = [weight for weight in weights]\n",
        "    self.bias = bias\n",
        "\n",
        "  ### Getter methods ###\n",
        "  def get_weights(self):\n",
        "    return self.weights\n",
        "\n",
        "  def get_bias(self):\n",
        "    return self.bias\n",
        "\n",
        "  \"\"\"\n",
        "  Given a single datapoint, predicts\n",
        "  the probability that it belongs to class 1\n",
        "\n",
        "  x : A single datapoint\n",
        "  \"\"\"\n",
        "  def predict_score(self, x):\n",
        "    z = 0\n",
        "    for i in range(len(self.weights)):\n",
        "      z += self.weights[i] * x[i]\n",
        "    z += self.bias\n",
        "    # Could also do\n",
        "    # z = np.dot(self.weights, x) + self.bias\n",
        "    return compute_sigmoid(z)\n",
        "\n",
        "  \"\"\"\n",
        "  Computes the gradient of the NLL with respect to the weights\n",
        "  and bias\n",
        "  \"\"\"\n",
        "  def compute_nll_gradient(self, X, labels):\n",
        "    grad = np.zeros(len(self.weights)) # List of all d/dx_i\n",
        "    grad_b = 0\n",
        "    for j in range(len(X)):\n",
        "      x = X[j]\n",
        "      label = labels[j]\n",
        "      for i in range(len(x)):\n",
        "        x_i = x[i]\n",
        "        prediction = self.predict_score(x)\n",
        "        # Update d/dw_i\n",
        "        grad[i] += -label * (prediction - 1) * x_i + (1 - label) * prediction * x_i\n",
        "      # Update d/db\n",
        "      grad_b += -label * (prediction - 1) + (1 - label) * prediction\n",
        "\n",
        "    return grad, grad_b\n",
        "\n",
        "  \"\"\"\n",
        "  Given a labeled dataset, it trains the regressor\n",
        "  to best fit the given dataset. Uses the Negative Log\n",
        "  Likelihood as the loss function.\n",
        "  \"\"\"\n",
        "  def train(self, X, labels, learning_rate=0.005, epochs=200):\n",
        "    assert(len(X) == len(labels), \"The number of datapoints and labels should be the same\")\n",
        "    n = len(X)\n",
        "    for i in range(epochs):\n",
        "      predictions = [self.predict_score(x) for x in X]\n",
        "      grad_w, grad_b = self.compute_nll_gradient(X, labels)\n",
        "      print(f\"Epoch {i}: Loss = {compute_nll(predictions, labels)}\")\n",
        "      # Update the weights\n",
        "      self.weights = [self.weights[i] - learning_rate * grad_w[i] for i in range(len(self.weights))]\n",
        "      self.bias = self.bias - learning_rate * grad_b\n",
        "\n",
        "  \"\"\"\n",
        "  Given a dataset, it returns the final classifcations\n",
        "  into class 0 and class 1\n",
        "  \"\"\"\n",
        "  def final_classifications(self, X):\n",
        "    return [1 if self.predict_score(x) > 0.5 else 0 for x in X]\n",
        "\n",
        "  def compute_accuracy(self, X, labels):\n",
        "    correct_predictions = 0\n",
        "    for i in range(len(labels)):\n",
        "      label = labels[i]\n",
        "      x = X[i]\n",
        "      prediction = self.predict_score(x) > 0.5\n",
        "      if prediction == label:\n",
        "        correct_predictions += 1\n",
        "    return correct_predictions / len(labels)"
      ],
      "metadata": {
        "colab": {
          "base_uri": "https://localhost:8080/"
        },
        "id": "afMym2SYzLRX",
        "outputId": "77332932-ab4b-4529-dc16-58d7e2db8300"
      },
      "execution_count": null,
      "outputs": [
        {
          "output_type": "stream",
          "name": "stderr",
          "text": [
            "<>:55: SyntaxWarning: assertion is always true, perhaps remove parentheses?\n",
            "<>:55: SyntaxWarning: assertion is always true, perhaps remove parentheses?\n",
            "/tmp/ipython-input-89-2322548395.py:55: SyntaxWarning: assertion is always true, perhaps remove parentheses?\n",
            "  assert(len(X) == len(labels), \"The number of datapoints and labels should be the same\")\n"
          ]
        }
      ]
    },
    {
      "cell_type": "markdown",
      "source": [
        "Let us now see our linear classifier at work !"
      ],
      "metadata": {
        "id": "ls9ekQ80Cz2i"
      }
    },
    {
      "cell_type": "code",
      "source": [
        "\"\"\"\n",
        "Plots the decision boundary of a 2-variable\n",
        "logistic regressor\n",
        "\"\"\"\n",
        "def plot_decision_boundary(X, labels, classifier):\n",
        "  X_line = np.linspace(min([x[0] for x in X]) - 2, max([x[0] for x in X]) + 2)\n",
        "  final_weights = classifier.get_weights()\n",
        "  final_bias = classifier.get_bias()\n",
        "  print(f\"Final weights: {final_weights}\")\n",
        "  print(f\"Final bias: {final_bias}\")\n",
        "  Y = (-final_weights[0] * X_line - final_bias) / final_weights[1] # What happens if w1 is zero?\n",
        "  plt.plot(X_line, Y)\n",
        "  # Plot the points\n",
        "  # Class 0\n",
        "  plt.scatter([X[i][0] for i in range(len(X)) if labels[i] == 0] ,[X[i][1] for i in range(len(X)) if labels[i] == 0], color='red')\n",
        "  # Class 1\n",
        "  plt.scatter([X[i][0] for i in range(len(X)) if labels[i] == 1] ,[X[i][1] for i in range(len(X)) if labels[i] == 1], color='green')\n",
        "  plt.title('Plot of Dataset')\n",
        "  plt.xlabel('X1')\n",
        "  plt.ylabel('X2')\n"
      ],
      "metadata": {
        "id": "mBkn-ggWoEJ8"
      },
      "execution_count": null,
      "outputs": []
    },
    {
      "cell_type": "code",
      "source": [
        "### Separable Dataset example ###\n",
        "initial_weights1 = [3, -1] # Feel free to adjust\n",
        "initial_bias1 = 0\n",
        "\n",
        "separable_classifier = LogisticRegressor(initial_weights1, initial_bias1)\n",
        "dataset_1 = [[x, y] for x,y in zip(X1,Y1)]\n",
        "# Train #\n",
        "separable_classifier.train(dataset_1, labels1)\n",
        "# Results #\n",
        "print(f\"Accuracy: {separable_classifier.compute_accuracy(dataset_1, labels1)}\")\n",
        "# Plot the decision boundary (The line)\n",
        "plot_decision_boundary(dataset_1, labels1, separable_classifier)"
      ],
      "metadata": {
        "colab": {
          "base_uri": "https://localhost:8080/",
          "height": 1000
        },
        "collapsed": true,
        "id": "ocVIXtK1Cs_0",
        "outputId": "eb315237-9f55-4210-f19f-38e5cf68674b"
      },
      "execution_count": null,
      "outputs": [
        {
          "output_type": "stream",
          "name": "stdout",
          "text": [
            "Epoch 0: Loss = 6.75912958218041\n",
            "Epoch 1: Loss = 6.630494389275002\n",
            "Epoch 2: Loss = 6.504925636224318\n",
            "Epoch 3: Loss = 6.382310180138399\n",
            "Epoch 4: Loss = 6.2625422499104\n",
            "Epoch 5: Loss = 6.145522865111916\n",
            "Epoch 6: Loss = 6.031159293957672\n",
            "Epoch 7: Loss = 5.919364549457633\n",
            "Epoch 8: Loss = 5.810056922459618\n",
            "Epoch 9: Loss = 5.703159549999935\n",
            "Epoch 10: Loss = 5.598600017194714\n",
            "Epoch 11: Loss = 5.496309990797412\n",
            "Epoch 12: Loss = 5.396224882500146\n",
            "Epoch 13: Loss = 5.298283540052965\n",
            "Epoch 14: Loss = 5.202427964304866\n",
            "Epoch 15: Loss = 5.108603050323504\n",
            "Epoch 16: Loss = 5.016756350820645\n",
            "Epoch 17: Loss = 4.926837860191454\n",
            "Epoch 18: Loss = 4.838799817563697\n",
            "Epoch 19: Loss = 4.752596527344693\n",
            "Epoch 20: Loss = 4.668184195846701\n",
            "Epoch 21: Loss = 4.5855207826637425\n",
            "Epoch 22: Loss = 4.504565865563324\n",
            "Epoch 23: Loss = 4.425280517743939\n",
            "Epoch 24: Loss = 4.3476271963934385\n",
            "Epoch 25: Loss = 4.271569641563143\n",
            "Epoch 26: Loss = 4.197072784448644\n",
            "Epoch 27: Loss = 4.124102664239583\n",
            "Epoch 28: Loss = 4.052626352767771\n",
            "Epoch 29: Loss = 3.9826118862458757\n",
            "Epoch 30: Loss = 3.9140282034473275\n",
            "Epoch 31: Loss = 3.8468450897324926\n",
            "Epoch 32: Loss = 3.78103312637669\n",
            "Epoch 33: Loss = 3.716563644702295\n",
            "Epoch 34: Loss = 3.6534086845603078\n",
            "Epoch 35: Loss = 3.59154095674659\n",
            "Epoch 36: Loss = 3.5309338089745466\n",
            "Epoch 37: Loss = 3.471561195059728\n",
            "Epoch 38: Loss = 3.413397647002757\n",
            "Epoch 39: Loss = 3.3564182496852535\n",
            "Epoch 40: Loss = 3.300598617919466\n",
            "Epoch 41: Loss = 3.245914875616035\n",
            "Epoch 42: Loss = 3.1923436368560005\n",
            "Epoch 43: Loss = 3.139861988673081\n",
            "Epoch 44: Loss = 3.0884474753702835\n",
            "Epoch 45: Loss = 3.0380780842114397\n",
            "Epoch 46: Loss = 2.9887322323433927\n",
            "Epoch 47: Loss = 2.940388754818166\n",
            "Epoch 48: Loss = 2.8930268935970984\n",
            "Epoch 49: Loss = 2.8466262874301775\n",
            "Epoch 50: Loss = 2.8011669625142974\n",
            "Epoch 51: Loss = 2.756629323843505\n",
            "Epoch 52: Loss = 2.7129941471729526\n",
            "Epoch 53: Loss = 2.6702425715260687\n",
            "Epoch 54: Loss = 2.6283560921815456\n",
            "Epoch 55: Loss = 2.5873165540832335\n",
            "Epoch 56: Loss = 2.5471061456218655\n",
            "Epoch 57: Loss = 2.5077073927429403\n",
            "Epoch 58: Loss = 2.469103153339855\n",
            "Epoch 59: Loss = 2.4312766118958566\n",
            "Epoch 60: Loss = 2.394211274342327\n",
            "Epoch 61: Loss = 2.3578909631045866\n",
            "Epoch 62: Loss = 2.3222998123096663\n",
            "Epoch 63: Loss = 2.287422263133463\n",
            "Epoch 64: Loss = 2.253243059267436\n",
            "Epoch 65: Loss = 2.2197472424874243\n",
            "Epoch 66: Loss = 2.186920148309335\n",
            "Epoch 67: Loss = 2.154747401718519\n",
            "Epoch 68: Loss = 2.1232149129613784\n",
            "Epoch 69: Loss = 2.0923088733894137\n",
            "Epoch 70: Loss = 2.0620157513473334\n",
            "Epoch 71: Loss = 2.03232228809819\n",
            "Epoch 72: Loss = 2.00321549377966\n",
            "Epoch 73: Loss = 1.9746826433865905\n",
            "Epoch 74: Loss = 1.9467112727759528\n",
            "Epoch 75: Loss = 1.9192891746910499\n",
            "Epoch 76: Loss = 1.8924043948026696\n",
            "Epoch 77: Loss = 1.8660452277654285\n",
            "Epoch 78: Loss = 1.8402002132881745\n",
            "Epoch 79: Loss = 1.814858132217784\n",
            "Epoch 80: Loss = 1.7900080026361045\n",
            "Epoch 81: Loss = 1.7656390759702145\n",
            "Epoch 82: Loss = 1.7417408331164157\n",
            "Epoch 83: Loss = 1.7183029805787025\n",
            "Epoch 84: Loss = 1.695315446622647\n",
            "Epoch 85: Loss = 1.6727683774458297\n",
            "Epoch 86: Loss = 1.650652133366087\n",
            "Epoch 87: Loss = 1.6289572850289873\n",
            "Epoch 88: Loss = 1.6076746096360055\n",
            "Epoch 89: Loss = 1.586795087194957\n",
            "Epoch 90: Loss = 1.5663098967942835\n",
            "Epoch 91: Loss = 1.5462104129027927\n",
            "Epoch 92: Loss = 1.5264882016964954\n",
            "Epoch 93: Loss = 1.5071350174141172\n",
            "Epoch 94: Loss = 1.4881427987429072\n",
            "Epoch 95: Loss = 1.4695036652362576\n",
            "Epoch 96: Loss = 1.4512099137646641\n",
            "Epoch 97: Loss = 1.433254015001475\n",
            "Epoch 98: Loss = 1.4156286099448117\n",
            "Epoch 99: Loss = 1.3983265064769965\n",
            "Epoch 100: Loss = 1.3813406759627427\n",
            "Epoch 101: Loss = 1.3646642498872814\n",
            "Epoch 102: Loss = 1.3482905165355425\n",
            "Epoch 103: Loss = 1.3322129177134006\n",
            "Epoch 104: Loss = 1.3164250455119495\n",
            "Epoch 105: Loss = 1.3009206391156565\n",
            "Epoch 106: Loss = 1.285693581655189\n",
            "Epoch 107: Loss = 1.2707378971056202\n",
            "Epoch 108: Loss = 1.2560477472306333\n",
            "Epoch 109: Loss = 1.2416174285732835\n",
            "Epoch 110: Loss = 1.2274413694937776\n",
            "Epoch 111: Loss = 1.2135141272546726\n",
            "Epoch 112: Loss = 1.1998303851538323\n",
            "Epoch 113: Loss = 1.186384949705374\n",
            "Epoch 114: Loss = 1.1731727478688094\n",
            "Epoch 115: Loss = 1.160188824326506\n",
            "Epoch 116: Loss = 1.1474283388095101\n",
            "Epoch 117: Loss = 1.1348865634717598\n",
            "Epoch 118: Loss = 1.122558880312606\n",
            "Epoch 119: Loss = 1.1104407786475543\n",
            "Epoch 120: Loss = 1.0985278526270577\n",
            "Epoch 121: Loss = 1.0868157988031482\n",
            "Epoch 122: Loss = 1.0753004137436644\n",
            "Epoch 123: Loss = 1.063977591693772\n",
            "Epoch 124: Loss = 1.0528433222844424\n",
            "Epoch 125: Loss = 1.0418936882875185\n",
            "Epoch 126: Loss = 1.0311248634169554\n",
            "Epoch 127: Loss = 1.0205331101758102\n",
            "Epoch 128: Loss = 1.0101147777484867\n",
            "Epoch 129: Loss = 0.9998662999377717\n",
            "Epoch 130: Loss = 0.98978419314611\n",
            "Epoch 131: Loss = 0.9798650544006026\n",
            "Epoch 132: Loss = 0.970105559421144\n",
            "Epoch 133: Loss = 0.9605024607311261\n",
            "Epoch 134: Loss = 0.9510525858101174\n",
            "Epoch 135: Loss = 0.9417528352878842\n",
            "Epoch 136: Loss = 0.9326001811791479\n",
            "Epoch 137: Loss = 0.9235916651584414\n",
            "Epoch 138: Loss = 0.9147243968743981\n",
            "Epoch 139: Loss = 0.9059955523028519\n",
            "Epoch 140: Loss = 0.8974023721380615\n",
            "Epoch 141: Loss = 0.8889421602214054\n",
            "Epoch 142: Loss = 0.8806122820068831\n",
            "Epoch 143: Loss = 0.8724101630627451\n",
            "Epoch 144: Loss = 0.8643332876085783\n",
            "Epoch 145: Loss = 0.8563791970871838\n",
            "Epoch 146: Loss = 0.8485454887705642\n",
            "Epoch 147: Loss = 0.8408298143993576\n",
            "Epoch 148: Loss = 0.8332298788550477\n",
            "Epoch 149: Loss = 0.825743438864287\n",
            "Epoch 150: Loss = 0.8183683017346717\n",
            "Epoch 151: Loss = 0.8111023241213129\n",
            "Epoch 152: Loss = 0.8039434108235556\n",
            "Epoch 153: Loss = 0.7968895136111983\n",
            "Epoch 154: Loss = 0.7899386300795765\n",
            "Epoch 155: Loss = 0.783088802532881\n",
            "Epoch 156: Loss = 0.7763381168950824\n",
            "Epoch 157: Loss = 0.769684701647851\n",
            "Epoch 158: Loss = 0.7631267267948628\n",
            "Epoch 159: Loss = 0.756662402851888\n",
            "Epoch 160: Loss = 0.7502899798620761\n",
            "Epoch 161: Loss = 0.7440077464358522\n",
            "Epoch 162: Loss = 0.7378140288148535\n",
            "Epoch 163: Loss = 0.7317071899593424\n",
            "Epoch 164: Loss = 0.7256856286585367\n",
            "Epoch 165: Loss = 0.71974777866332\n",
            "Epoch 166: Loss = 0.7138921078407908\n",
            "Epoch 167: Loss = 0.7081171173501286\n",
            "Epoch 168: Loss = 0.7024213408392534\n",
            "Epoch 169: Loss = 0.6968033436617922\n",
            "Epoch 170: Loss = 0.6912617221138221\n",
            "Epoch 171: Loss = 0.6857951026899439\n",
            "Epoch 172: Loss = 0.6804021413581769\n",
            "Epoch 173: Loss = 0.6750815228532262\n",
            "Epoch 174: Loss = 0.6698319599876543\n",
            "Epoch 175: Loss = 0.6646521929805216\n",
            "Epoch 176: Loss = 0.6595409888030449\n",
            "Epoch 177: Loss = 0.6544971405408541\n",
            "Epoch 178: Loss = 0.6495194667724241\n",
            "Epoch 179: Loss = 0.6446068109632712\n",
            "Epoch 180: Loss = 0.6397580408755202\n",
            "Epoch 181: Loss = 0.6349720479924396\n",
            "Epoch 182: Loss = 0.6302477469575712\n",
            "Epoch 183: Loss = 0.6255840750280797\n",
            "Epoch 184: Loss = 0.6209799915419497\n",
            "Epoch 185: Loss = 0.6164344773986844\n",
            "Epoch 186: Loss = 0.6119465345531496\n",
            "Epoch 187: Loss = 0.6075151855222299\n",
            "Epoch 188: Loss = 0.6031394729039593\n",
            "Epoch 189: Loss = 0.5988184589088079\n",
            "Epoch 190: Loss = 0.5945512249028091\n",
            "Epoch 191: Loss = 0.5903368709622124\n",
            "Epoch 192: Loss = 0.5861745154393777\n",
            "Epoch 193: Loss = 0.5820632945395989\n",
            "Epoch 194: Loss = 0.5780023619085838\n",
            "Epoch 195: Loss = 0.5739908882303137\n",
            "Epoch 196: Loss = 0.5700280608350016\n",
            "Epoch 197: Loss = 0.5661130833168944\n",
            "Epoch 198: Loss = 0.562245175161657\n",
            "Epoch 199: Loss = 0.558423571383089\n",
            "Accuracy: 1.0\n",
            "Final weights: [np.float64(1.6663405245612843), np.float64(-2.239830878110521)]\n",
            "Final bias: -1.2424933774222673\n"
          ]
        },
        {
          "output_type": "display_data",
          "data": {
            "text/plain": [
              "<Figure size 640x480 with 1 Axes>"
            ],
            "image/png": "[encoded data removed]"
          },
          "metadata": {}
        }
      ]
    },
    {
      "cell_type": "code",
      "source": [
        "### Non-separable dataset example\n",
        "initial_weights1 = [1, -1] # Feel free to adjust !\n",
        "initial_bias1 = 1\n",
        "\n",
        "nonseparable_classifier = LogisticRegressor(initial_weights1, initial_bias1)\n",
        "dataset_2 = [[x, y] for x,y in zip(X2,Y2)]\n",
        "# Train #\n",
        "nonseparable_classifier.train(dataset_2, labels2, learning_rate=0.0001)\n",
        "# Results #\n",
        "print(f\"Accuracy: {nonseparable_classifier.compute_accuracy(dataset_2, labels2)}\")\n",
        "# Plot the decision boundary (The line)\n",
        "plot_decision_boundary(dataset_2, labels2, nonseparable_classifier)"
      ],
      "metadata": {
        "colab": {
          "base_uri": "https://localhost:8080/",
          "height": 1000
        },
        "collapsed": true,
        "id": "YdD01DJQo8pp",
        "outputId": "aeca8a7f-0c1f-4fd4-acb9-b493444c04c8"
      },
      "execution_count": null,
      "outputs": [
        {
          "output_type": "stream",
          "name": "stdout",
          "text": [
            "Epoch 0: Loss = 223.28950194762294\n",
            "Epoch 1: Loss = 223.06698302778224\n",
            "Epoch 2: Loss = 222.8458163674542\n",
            "Epoch 3: Loss = 222.62601951688848\n",
            "Epoch 4: Loss = 222.40760663090873\n",
            "Epoch 5: Loss = 222.19058818080163\n",
            "Epoch 6: Loss = 221.9749706412617\n",
            "Epoch 7: Loss = 221.76075619923003\n",
            "Epoch 8: Loss = 221.54794243874048\n",
            "Epoch 9: Loss = 221.3365220307828\n",
            "Epoch 10: Loss = 221.12648240023455\n",
            "Epoch 11: Loss = 220.91780538409552\n",
            "Epoch 12: Loss = 220.71046685828125\n",
            "Epoch 13: Loss = 220.5044363456862\n",
            "Epoch 14: Loss = 220.29967656952036\n",
            "Epoch 15: Loss = 220.09614297229103\n",
            "Epoch 16: Loss = 219.89378317077933\n",
            "Epoch 17: Loss = 219.69253633046836\n",
            "Epoch 18: Loss = 219.4923324860967\n",
            "Epoch 19: Loss = 219.29309173429323\n",
            "Epoch 20: Loss = 219.09472334668075\n",
            "Epoch 21: Loss = 218.89712475570454\n",
            "Epoch 22: Loss = 218.70018040864565\n",
            "Epoch 23: Loss = 218.50376049083596\n",
            "Epoch 24: Loss = 218.3077195030955\n",
            "Epoch 25: Loss = 218.11189469586157\n",
            "Epoch 26: Loss = 217.91610435038123\n",
            "Epoch 27: Loss = 217.7201459374398\n",
            "Epoch 28: Loss = 217.52379415222813\n",
            "Epoch 29: Loss = 217.32679885585168\n",
            "Epoch 30: Loss = 217.12888297997625\n",
            "Epoch 31: Loss = 216.92974044830171\n",
            "Epoch 32: Loss = 216.72903417285502\n",
            "Epoch 33: Loss = 216.32586891267565\n",
            "Epoch 34: Loss = 216.1208912445668\n",
            "Epoch 35: Loss = 215.9131364232139\n",
            "Epoch 36: Loss = 215.70212953582487\n",
            "Epoch 37: Loss = 215.48736075921207\n",
            "Epoch 38: Loss = 215.10133369197283\n",
            "Epoch 39: Loss = 214.8773824172174\n",
            "Epoch 40: Loss = 214.6479557429087\n",
            "Epoch 41: Loss = 214.26941097189288\n",
            "Epoch 42: Loss = 214.02717785110863\n",
            "Epoch 43: Loss = 213.6525012030767\n",
            "Epoch 44: Loss = 213.28380876308756\n",
            "Epoch 45: Loss = 212.91773683150677\n",
            "Epoch 46: Loss = 212.46837916777807\n",
            "Epoch 47: Loss = 212.10689299823838\n",
            "Epoch 48: Loss = 211.6743768552403\n",
            "Epoch 49: Loss = 211.192965765156\n",
            "Epoch 50: Loss = 210.72792573924946\n",
            "Epoch 51: Loss = 210.27224812868658\n",
            "Epoch 52: Loss = 209.78576647011093\n",
            "Epoch 53: Loss = 209.249490226994\n",
            "Epoch 54: Loss = 208.73428298643927\n",
            "Epoch 55: Loss = 207.989426524374\n",
            "Epoch 56: Loss = 207.44644297240643\n",
            "Epoch 57: Loss = 206.8760221915085\n",
            "Epoch 58: Loss = 206.30411963019776\n",
            "Epoch 59: Loss = 205.7235571942149\n",
            "Epoch 60: Loss = 205.14058194987751\n",
            "Epoch 61: Loss = 204.53811606753982\n",
            "Epoch 62: Loss = 203.9397227027829\n",
            "Epoch 63: Loss = 203.33286815968555\n",
            "Epoch 64: Loss = 202.72115755140993\n",
            "Epoch 65: Loss = 201.93742062424434\n",
            "Epoch 66: Loss = 201.31686721914326\n",
            "Epoch 67: Loss = 200.6944157420156\n",
            "Epoch 68: Loss = 200.06837972101414\n",
            "Epoch 69: Loss = 199.2977480637189\n",
            "Epoch 70: Loss = 198.66692269383412\n",
            "Epoch 71: Loss = 198.03545478107804\n",
            "Epoch 72: Loss = 197.2779385745544\n",
            "Epoch 73: Loss = 196.64346117087044\n",
            "Epoch 74: Loss = 195.8970066300586\n",
            "Epoch 75: Loss = 195.26121223776607\n",
            "Epoch 76: Loss = 194.52413045040407\n",
            "Epoch 77: Loss = 193.79574193332041\n",
            "Epoch 78: Loss = 193.0746820543047\n",
            "Epoch 79: Loss = 192.3594223820517\n",
            "Epoch 80: Loss = 191.64928799734088\n",
            "Epoch 81: Loss = 190.94373630172453\n",
            "Epoch 82: Loss = 190.2420300608612\n",
            "Epoch 83: Loss = 189.48836684243307\n",
            "Epoch 84: Loss = 188.79628451636825\n",
            "Epoch 85: Loss = 188.05922494782988\n",
            "Epoch 86: Loss = 187.33071990554714\n",
            "Epoch 87: Loss = 186.57106296042602\n",
            "Epoch 88: Loss = 185.82425627349312\n",
            "Epoch 89: Loss = 185.0879115427118\n",
            "Epoch 90: Loss = 184.36018531640693\n",
            "Epoch 91: Loss = 183.61405125681284\n",
            "Epoch 92: Loss = 182.87832520239257\n",
            "Epoch 93: Loss = 182.13039027291768\n",
            "Epoch 94: Loss = 181.39327852070784\n",
            "Epoch 95: Loss = 180.63148862538185\n",
            "Epoch 96: Loss = 179.89829069847593\n",
            "Epoch 97: Loss = 179.14625857201193\n",
            "Epoch 98: Loss = 178.394016633104\n",
            "Epoch 99: Loss = 177.64296528101582\n",
            "Epoch 100: Loss = 176.89409093326907\n",
            "Epoch 101: Loss = 176.14805276760575\n",
            "Epoch 102: Loss = 175.39758453429255\n",
            "Epoch 103: Loss = 174.65217624241268\n",
            "Epoch 104: Loss = 173.8993512655175\n",
            "Epoch 105: Loss = 173.15368432857332\n",
            "Epoch 106: Loss = 172.39975929265714\n",
            "Epoch 107: Loss = 171.65462035063044\n",
            "Epoch 108: Loss = 170.9054195930192\n",
            "Epoch 109: Loss = 170.15831223573156\n",
            "Epoch 110: Loss = 169.41108953113368\n",
            "Epoch 111: Loss = 168.66256754230676\n",
            "Epoch 112: Loss = 167.91721139187877\n",
            "Epoch 113: Loss = 167.17349244102084\n",
            "Epoch 114: Loss = 166.4286145783183\n",
            "Epoch 115: Loss = 165.6846046482208\n",
            "Epoch 116: Loss = 164.94293724792647\n",
            "Epoch 117: Loss = 164.20327375988032\n",
            "Epoch 118: Loss = 163.46430635510598\n",
            "Epoch 119: Loss = 162.7265370803468\n",
            "Epoch 120: Loss = 161.99147497654116\n",
            "Epoch 121: Loss = 161.257580364013\n",
            "Epoch 122: Loss = 160.52567268434748\n",
            "Epoch 123: Loss = 159.79646769335318\n",
            "Epoch 124: Loss = 159.06996337380176\n",
            "Epoch 125: Loss = 158.34578094702306\n",
            "Epoch 126: Loss = 157.62438737620008\n",
            "Epoch 127: Loss = 156.9058363193541\n",
            "Epoch 128: Loss = 156.190765715766\n",
            "Epoch 129: Loss = 155.47941388663958\n",
            "Epoch 130: Loss = 154.77180117104757\n",
            "Epoch 131: Loss = 154.06813578828587\n",
            "Epoch 132: Loss = 153.3689987844334\n",
            "Epoch 133: Loss = 152.67426007230662\n",
            "Epoch 134: Loss = 151.9844334610167\n",
            "Epoch 135: Loss = 151.29966228848815\n",
            "Epoch 136: Loss = 150.6203775633472\n",
            "Epoch 137: Loss = 149.94672752209183\n",
            "Epoch 138: Loss = 149.27883751689893\n",
            "Epoch 139: Loss = 148.61729951728665\n",
            "Epoch 140: Loss = 147.96210326047682\n",
            "Epoch 141: Loss = 147.31347164562726\n",
            "Epoch 142: Loss = 146.67176006601426\n",
            "Epoch 143: Loss = 146.03707713290083\n",
            "Epoch 144: Loss = 145.40966205253298\n",
            "Epoch 145: Loss = 144.78956888410414\n",
            "Epoch 146: Loss = 144.17696616370574\n",
            "Epoch 147: Loss = 143.57197761037148\n",
            "Epoch 148: Loss = 142.97468995195607\n",
            "Epoch 149: Loss = 142.38511678147108\n",
            "Epoch 150: Loss = 141.80329752771416\n",
            "Epoch 151: Loss = 141.22921033536394\n",
            "Epoch 152: Loss = 140.6628836902488\n",
            "Epoch 153: Loss = 140.1042259911969\n",
            "Epoch 154: Loss = 139.5531973104404\n",
            "Epoch 155: Loss = 139.0096896964447\n",
            "Epoch 156: Loss = 138.47361401439795\n",
            "Epoch 157: Loss = 137.94483049865005\n",
            "Epoch 158: Loss = 137.42320173847375\n",
            "Epoch 159: Loss = 136.90859030300044\n",
            "Epoch 160: Loss = 136.4008424209648\n",
            "Epoch 161: Loss = 135.89979335523375\n",
            "Epoch 162: Loss = 135.4052467453172\n",
            "Epoch 163: Loss = 134.91703343215903\n",
            "Epoch 164: Loss = 134.4349817208984\n",
            "Epoch 165: Loss = 133.95890977978038\n",
            "Epoch 166: Loss = 133.48862221264196\n",
            "Epoch 167: Loss = 133.02394173741305\n",
            "Epoch 168: Loss = 132.56468267309546\n",
            "Epoch 169: Loss = 132.11067017501466\n",
            "Epoch 170: Loss = 131.6617199866063\n",
            "Epoch 171: Loss = 131.2176620961106\n",
            "Epoch 172: Loss = 130.77832778955002\n",
            "Epoch 173: Loss = 130.3435519185655\n",
            "Epoch 174: Loss = 129.91316529894686\n",
            "Epoch 175: Loss = 129.48702031867737\n",
            "Epoch 176: Loss = 129.06495880388175\n",
            "Epoch 177: Loss = 128.64683653685256\n",
            "Epoch 178: Loss = 128.23250784930718\n",
            "Epoch 179: Loss = 127.82184127907766\n",
            "Epoch 180: Loss = 127.41469713503032\n",
            "Epoch 181: Loss = 127.01095429520267\n",
            "Epoch 182: Loss = 126.61048911055387\n",
            "Epoch 183: Loss = 126.2131785637125\n",
            "Epoch 184: Loss = 125.81891540613512\n",
            "Epoch 185: Loss = 125.4275853015523\n",
            "Epoch 186: Loss = 125.0390861706947\n",
            "Epoch 187: Loss = 124.65331778103295\n",
            "Epoch 188: Loss = 124.27018316774904\n",
            "Epoch 189: Loss = 123.88958810000112\n",
            "Epoch 190: Loss = 123.51144497619585\n",
            "Epoch 191: Loss = 123.13566870890635\n",
            "Epoch 192: Loss = 122.76217530397658\n",
            "Epoch 193: Loss = 122.3908878293095\n",
            "Epoch 194: Loss = 122.02173065716833\n",
            "Epoch 195: Loss = 121.6546306883856\n",
            "Epoch 196: Loss = 121.28951910764583\n",
            "Epoch 197: Loss = 120.92632819436821\n",
            "Epoch 198: Loss = 120.56499490425928\n",
            "Epoch 199: Loss = 120.20545716885329\n",
            "Accuracy: 0.5666666666666667\n",
            "Final weights: [np.float64(0.8012370701566777), np.float64(-0.24372573690888205)]\n",
            "Final bias: 0.7236549011472193\n"
          ]
        },
        {
          "output_type": "display_data",
          "data": {
            "text/plain": [
              "<Figure size 640x480 with 1 Axes>"
            ],
            "image/png": "[encoded data removed]"
          },
          "metadata": {}
        }
      ]
    },
    {
      "cell_type": "markdown",
      "source": [
        "We can try minimizing the Negative Log Likelihood by playing with the learning rate. In the case above, a learning_rate that is too large could make the error grow quite large due to the dependence of the gradient on the datapoints."
      ],
      "metadata": {
        "id": "x6JWBK0sq1FR"
      }
    },
    {
      "cell_type": "markdown",
      "source": [
        "**Thanks for participating in this demo !**\n",
        "\n",
        "Next, we will talk about some other approaches for classification tasks"
      ],
      "metadata": {
        "id": "CEqACakUr-zX"
      }
    },
    {
      "cell_type": "code",
      "source": [],
      "metadata": {
        "id": "OV2O1pbMq0aa"
      },
      "execution_count": null,
      "outputs": []
    }
  ]
}